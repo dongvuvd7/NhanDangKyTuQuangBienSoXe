{
 "cells": [
  {
   "cell_type": "code",
   "execution_count": 1,
   "metadata": {},
   "outputs": [],
   "source": [
    "import pandas as pd #thư viện pandas dùng để đọc và xử lý dữ liệu\n",
    "import xml.etree.ElementTree as xet #thư viện xml dùng để đọc file xml"
   ]
  },
  {
   "cell_type": "code",
   "execution_count": 2,
   "metadata": {},
   "outputs": [],
   "source": [
    "from glob import glob #thư viện glob dùng để đọc tất cả các file trong một thư mục"
   ]
  },
  {
   "cell_type": "code",
   "execution_count": 3,
   "metadata": {},
   "outputs": [
    {
     "data": {
      "text/plain": [
       "['./xemay_images\\\\xemay01.xml',\n",
       " './xemay_images\\\\xemay02.xml',\n",
       " './xemay_images\\\\xemay03.xml',\n",
       " './xemay_images\\\\xemay04.xml']"
      ]
     },
     "execution_count": 3,
     "metadata": {},
     "output_type": "execute_result"
    }
   ],
   "source": [
    "# path = glob('./images/*.xml') \n",
    "# path\n",
    "path = glob('./xemay_images/*.xml') #đọc tất cả các file xml trong thư mục xemay_images\n",
    "path #in ra các file xml trong thư mục xemay_images"
   ]
  },
  {
   "cell_type": "code",
   "execution_count": 4,
   "metadata": {},
   "outputs": [],
   "source": [
    "labels_dict = dict(filepath=[],xmin=[],xmax=[],ymin=[],ymax=[]) #tạo một dictionary chứa các thông tin của các file xml\n",
    "for filename in path: #duyệt qua các file xml\n",
    "\n",
    "    #filename = path[0]\n",
    "    info = xet.parse(filename) #đọc file xml\n",
    "    root = info.getroot() #lấy root của file xml\n",
    "    member_object = root.find('object') #lấy object trong file xml\n",
    "    labels_info = member_object.find('bndbox') #lấy bndbox trong file xml\n",
    "    xmin = int(labels_info.find('xmin').text) #lấy giá trị xmin trong file xml\n",
    "    xmax = int(labels_info.find('xmax').text) #lấy giá trị xmax trong file xml\n",
    "    ymin = int(labels_info.find('ymin').text) #lấy giá trị ymin trong file xml\n",
    "    ymax = int(labels_info.find('ymax').text) #lấy giá trị ymax trong file xml\n",
    "    #print(xmin,xmax,ymin,ymax)\n",
    "    labels_dict['filepath'].append(filename) #thêm giá trị filename vào dictionary labels_dict\n",
    "    labels_dict['xmin'].append(xmin) #thêm giá trị xmin vào dictionary labels_dict\n",
    "    labels_dict['xmax'].append(xmax) #thêm giá trị xmax vào dictionary labels_dict\n",
    "    labels_dict['ymin'].append(ymin) #thêm giá trị ymin vào dictionary labels_dict\n",
    "    labels_dict['ymax'].append(ymax) #thêm giá trị ymax vào dictionary labels_dict"
   ]
  },
  {
   "cell_type": "code",
   "execution_count": 5,
   "metadata": {},
   "outputs": [
    {
     "data": {
      "text/html": [
       "<div>\n",
       "<style scoped>\n",
       "    .dataframe tbody tr th:only-of-type {\n",
       "        vertical-align: middle;\n",
       "    }\n",
       "\n",
       "    .dataframe tbody tr th {\n",
       "        vertical-align: top;\n",
       "    }\n",
       "\n",
       "    .dataframe thead th {\n",
       "        text-align: right;\n",
       "    }\n",
       "</style>\n",
       "<table border=\"1\" class=\"dataframe\">\n",
       "  <thead>\n",
       "    <tr style=\"text-align: right;\">\n",
       "      <th></th>\n",
       "      <th>filepath</th>\n",
       "      <th>xmin</th>\n",
       "      <th>xmax</th>\n",
       "      <th>ymin</th>\n",
       "      <th>ymax</th>\n",
       "    </tr>\n",
       "  </thead>\n",
       "  <tbody>\n",
       "    <tr>\n",
       "      <th>0</th>\n",
       "      <td>./xemay_images\\xemay01.xml</td>\n",
       "      <td>248</td>\n",
       "      <td>467</td>\n",
       "      <td>243</td>\n",
       "      <td>387</td>\n",
       "    </tr>\n",
       "    <tr>\n",
       "      <th>1</th>\n",
       "      <td>./xemay_images\\xemay02.xml</td>\n",
       "      <td>242</td>\n",
       "      <td>354</td>\n",
       "      <td>171</td>\n",
       "      <td>232</td>\n",
       "    </tr>\n",
       "    <tr>\n",
       "      <th>2</th>\n",
       "      <td>./xemay_images\\xemay03.xml</td>\n",
       "      <td>215</td>\n",
       "      <td>352</td>\n",
       "      <td>173</td>\n",
       "      <td>275</td>\n",
       "    </tr>\n",
       "    <tr>\n",
       "      <th>3</th>\n",
       "      <td>./xemay_images\\xemay04.xml</td>\n",
       "      <td>823</td>\n",
       "      <td>1112</td>\n",
       "      <td>700</td>\n",
       "      <td>867</td>\n",
       "    </tr>\n",
       "  </tbody>\n",
       "</table>\n",
       "</div>"
      ],
      "text/plain": [
       "                     filepath  xmin  xmax  ymin  ymax\n",
       "0  ./xemay_images\\xemay01.xml   248   467   243   387\n",
       "1  ./xemay_images\\xemay02.xml   242   354   171   232\n",
       "2  ./xemay_images\\xemay03.xml   215   352   173   275\n",
       "3  ./xemay_images\\xemay04.xml   823  1112   700   867"
      ]
     },
     "execution_count": 5,
     "metadata": {},
     "output_type": "execute_result"
    }
   ],
   "source": [
    "df = pd.DataFrame(labels_dict)\n",
    "df"
   ]
  },
  {
   "cell_type": "code",
   "execution_count": 12,
   "metadata": {},
   "outputs": [],
   "source": [
    "# df.to_csv('labels.csv',index=False)\n",
    "df.to_csv('labels_xemay.csv',index=False)"
   ]
  },
  {
   "cell_type": "code",
   "execution_count": null,
   "metadata": {},
   "outputs": [],
   "source": []
  }
 ],
 "metadata": {
  "kernelspec": {
   "display_name": "Python 3 (ipykernel)",
   "language": "python",
   "name": "python3"
  },
  "language_info": {
   "codemirror_mode": {
    "name": "ipython",
    "version": 3
   },
   "file_extension": ".py",
   "mimetype": "text/x-python",
   "name": "python",
   "nbconvert_exporter": "python",
   "pygments_lexer": "ipython3",
   "version": "3.9.2"
  },
  "vscode": {
   "interpreter": {
    "hash": "b986696ba1f6afd701b0f780560c4bc8bf6d60726110b86d4e58b3c4892a96da"
   }
  }
 },
 "nbformat": 4,
 "nbformat_minor": 4
}
